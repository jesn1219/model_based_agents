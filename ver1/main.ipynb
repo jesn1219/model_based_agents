{
 "cells": [
  {
   "cell_type": "code",
   "execution_count": 1,
   "metadata": {},
   "outputs": [
    {
     "data": {
      "text/plain": [
       "<pyvirtualdisplay.display.Display at 0x7fa6d44207c0>"
      ]
     },
     "execution_count": 1,
     "metadata": {},
     "output_type": "execute_result"
    }
   ],
   "source": [
    "from pyvirtualdisplay import Display\n",
    "import gym\n",
    "import numpy as np\n",
    "import imageio\n",
    "import cv2\n",
    "# import cv2 \n",
    "import matplotlib.pyplot as plt\n",
    "import pandas as pd\n",
    "import time\n",
    "%matplotlib inline\n",
    "\n",
    "# Set virtual display\n",
    "display = Display(visible=0, size=(1400, 900))\n",
    "display.start()"
   ]
  },
  {
   "cell_type": "code",
   "execution_count": 2,
   "metadata": {},
   "outputs": [],
   "source": [
    "\n",
    "def show_image(rgb_array) :\n",
    "    # no axis and no frame\n",
    "    plt.axis('off')\n",
    "    plt.imshow(rgb_array)\n"
   ]
  },
  {
   "cell_type": "code",
   "execution_count": 3,
   "metadata": {},
   "outputs": [],
   "source": [
    "\n",
    "\n",
    "def render_episode(env_name) :\n",
    "    # make the cartpole environment\n",
    "    env = gym.make('MountainCarContinuous-v0')\n",
    "    test = env.reset()\n",
    "    print(len(test))\n",
    "    # reset the environment to a new, random state\n",
    "    frames = []\n",
    "    for t in range(1000):\n",
    "        # render one frame\n",
    "        rgb_array = env.render(mode='rgb_array')\n",
    "\n",
    "        # take a random action\n",
    "        action = env.action_space.sample()\n",
    "        # step the environment\n",
    "        observation, reward, done, info = env.step(action)\n",
    "        \n",
    "        # draw observation, reward, done, info on image\n",
    "        # convert numpy array to cv2 image\n",
    "        img_bgr = cv2.cvtColor(rgb_array, cv2.COLOR_RGB2BGR)\n",
    "        # plot reward on image\n",
    "        cv2.putText(img_bgr, 'reward: {}'.format(reward), (10, 30), cv2.FONT_HERSHEY_SIMPLEX, 0.6, (0, 0, 0), 2, cv2.LINE_AA)\n",
    "        cv2.putText(img_bgr, 'obs: {}'.format(observation), (10, 60), cv2.FONT_HERSHEY_SIMPLEX, 0.6, (0, 0, 0), 2, cv2.LINE_AA)\n",
    "        cv2.putText(img_bgr, 'action: {}'.format(action), (10, 90), cv2.FONT_HERSHEY_SIMPLEX, 0.6, (0, 0, 0), 2, cv2.LINE_AA)\n",
    "        # add frame number\n",
    "        cv2.putText(img_bgr, 'frame: {} / 1000'.format(t), (10, 120), cv2.FONT_HERSHEY_SIMPLEX, 0.6, (0, 0, 0), 2, cv2.LINE_AA)\n",
    "        \n",
    "        img_rgb = cv2.cvtColor(img_bgr, cv2.COLOR_BGR2RGB)\n",
    "\n",
    "        frames.append(img_rgb)\n",
    "\n",
    "        # if the episode is done, break\n",
    "        if done:\n",
    "            break\n",
    "        \n",
    "    # close the environment\n",
    "    env.close()\n",
    "    # make gif\n",
    "    imageio.mimsave('test.gif', frames, fps=30)\n",
    "    # show gif\n",
    "    from IPython.display import Image\n",
    "    Image(open('test.gif','rb').read())\n",
    "\n",
    "#render_episode('MountainCarContinuous-v0')"
   ]
  },
  {
   "cell_type": "code",
   "execution_count": 4,
   "metadata": {},
   "outputs": [
    {
     "name": "stdout",
     "output_type": "stream",
     "text": [
      "collecting data: 0 / 100000\n",
      "collecting data: 1000 / 100000\n",
      "collecting data: 2000 / 100000\n",
      "collecting data: 3000 / 100000\n"
     ]
    },
    {
     "ename": "KeyboardInterrupt",
     "evalue": "",
     "output_type": "error",
     "traceback": [
      "\u001b[0;31m---------------------------------------------------------------------------\u001b[0m",
      "\u001b[0;31mKeyboardInterrupt\u001b[0m                         Traceback (most recent call last)",
      "Cell \u001b[0;32mIn[4], line 51\u001b[0m\n\u001b[1;32m     48\u001b[0m     \u001b[39mprint\u001b[39m(\u001b[39m'\u001b[39m\u001b[39mdata saved as data/\u001b[39m\u001b[39m{}\u001b[39;00m\u001b[39m-\u001b[39m\u001b[39m{}\u001b[39;00m\u001b[39m.csv\u001b[39m\u001b[39m'\u001b[39m\u001b[39m.\u001b[39mformat(env_name,num_data))\n\u001b[1;32m     49\u001b[0m     \u001b[39mreturn\u001b[39;00m df\n\u001b[0;32m---> 51\u001b[0m collect_data_random_sample(\u001b[39m'\u001b[39;49m\u001b[39mMountainCarContinuous-v0\u001b[39;49m\u001b[39m'\u001b[39;49m,num_data\u001b[39m=\u001b[39;49m\u001b[39m10\u001b[39;49m\u001b[39m*\u001b[39;49m\u001b[39m*\u001b[39;49m\u001b[39m5\u001b[39;49m)\n",
      "Cell \u001b[0;32mIn[4], line 22\u001b[0m, in \u001b[0;36mcollect_data_random_sample\u001b[0;34m(env_name, num_data)\u001b[0m\n\u001b[1;32m     19\u001b[0m rgb_array \u001b[39m=\u001b[39m env\u001b[39m.\u001b[39mrender(mode\u001b[39m=\u001b[39m\u001b[39m'\u001b[39m\u001b[39mrgb_array\u001b[39m\u001b[39m'\u001b[39m)\n\u001b[1;32m     21\u001b[0m \u001b[39m# take a random action\u001b[39;00m\n\u001b[0;32m---> 22\u001b[0m action \u001b[39m=\u001b[39m env\u001b[39m.\u001b[39;49maction_space\u001b[39m.\u001b[39;49msample()\n\u001b[1;32m     23\u001b[0m \u001b[39m# step the environment\u001b[39;00m\n\u001b[1;32m     24\u001b[0m S \u001b[39m=\u001b[39m S_prime\n",
      "File \u001b[0;32m/env/lib/python3.8/site-packages/gym/spaces/box.py:122\u001b[0m, in \u001b[0;36mBox.sample\u001b[0;34m(self)\u001b[0m\n\u001b[1;32m    110\u001b[0m \u001b[39mdef\u001b[39;00m \u001b[39msample\u001b[39m(\u001b[39mself\u001b[39m) \u001b[39m-\u001b[39m\u001b[39m>\u001b[39m np\u001b[39m.\u001b[39mndarray:\n\u001b[1;32m    111\u001b[0m \u001b[39m    \u001b[39m\u001b[39m\"\"\"\u001b[39;00m\n\u001b[1;32m    112\u001b[0m \u001b[39m    Generates a single random sample inside of the Box.\u001b[39;00m\n\u001b[1;32m    113\u001b[0m \n\u001b[0;32m   (...)\u001b[0m\n\u001b[1;32m    120\u001b[0m \u001b[39m    * (-oo, oo) : normal distribution\u001b[39;00m\n\u001b[1;32m    121\u001b[0m \u001b[39m    \"\"\"\u001b[39;00m\n\u001b[0;32m--> 122\u001b[0m     high \u001b[39m=\u001b[39m \u001b[39mself\u001b[39m\u001b[39m.\u001b[39mhigh \u001b[39mif\u001b[39;00m \u001b[39mself\u001b[39;49m\u001b[39m.\u001b[39;49mdtype\u001b[39m.\u001b[39mkind \u001b[39m==\u001b[39m \u001b[39m\"\u001b[39m\u001b[39mf\u001b[39m\u001b[39m\"\u001b[39m \u001b[39melse\u001b[39;00m \u001b[39mself\u001b[39m\u001b[39m.\u001b[39mhigh\u001b[39m.\u001b[39mastype(\u001b[39m\"\u001b[39m\u001b[39mint64\u001b[39m\u001b[39m\"\u001b[39m) \u001b[39m+\u001b[39m \u001b[39m1\u001b[39m\n\u001b[1;32m    123\u001b[0m     sample \u001b[39m=\u001b[39m np\u001b[39m.\u001b[39mempty(\u001b[39mself\u001b[39m\u001b[39m.\u001b[39mshape)\n\u001b[1;32m    125\u001b[0m     \u001b[39m# Masking arrays which classify the coordinates according to interval\u001b[39;00m\n\u001b[1;32m    126\u001b[0m     \u001b[39m# type\u001b[39;00m\n",
      "\u001b[0;31mKeyboardInterrupt\u001b[0m: "
     ]
    }
   ],
   "source": [
    "# Get 10K data\n",
    "\n",
    "def collect_data_random_sample(env_name,num_data=10**5) :\n",
    "    start_time = time.time()\n",
    "    # make the cartpole environment\n",
    "    env = gym.make(env_name)\n",
    "    # reset the environment to a new, random state\n",
    "\n",
    "    Ss = []\n",
    "    S_primes = [] \n",
    "    As  = []\n",
    "    Rs = []\n",
    "    ds = []\n",
    "\n",
    "    \n",
    "    S_prime = env.reset()\n",
    "    for t in range(num_data):\n",
    "        # render one frame\n",
    "        rgb_array = env.render(mode='rgb_array')\n",
    "\n",
    "        # take a random action\n",
    "        action = env.action_space.sample()\n",
    "        # step the environment\n",
    "        S = S_prime\n",
    "        S_prime, reward, done, info = env.step(action)\n",
    "        \n",
    "        Ss.append(S)\n",
    "        S_primes.append(S_prime)\n",
    "        As.append(action)\n",
    "        Rs.append(reward)\n",
    "        ds.append(done)\n",
    "        \n",
    "        if t % 1000 == 0 :\n",
    "            print('collecting data: {} / {}'.format(t,num_data))\n",
    "            \n",
    "        \n",
    "        # if the episode is done, break\n",
    "        if done:\n",
    "            env.reset()\n",
    "            \n",
    "    # close the environment\n",
    "    env.close()\n",
    "    finish_time = time.time()\n",
    "    print('collecting data time: {} sec'.format(finish_time-start_time))\n",
    "    # save data as csv file, filename is env_name-num_data.csv\n",
    "    df = pd.DataFrame({'state': Ss, 'action': As, 'reward': Rs, 'done': ds, 'next_state': S_primes})\n",
    "    df.to_csv('data/{}-{}.csv'.format(env_name,num_data), index=False)\n",
    "    print('data saved as data/{}-{}.csv'.format(env_name,num_data))\n",
    "    return df\n",
    "\n",
    "collect_data_random_sample('MountainCarContinuous-v0',num_data=10**5)"
   ]
  }
 ],
 "metadata": {
  "kernelspec": {
   "display_name": "env",
   "language": "python",
   "name": "python3"
  },
  "language_info": {
   "codemirror_mode": {
    "name": "ipython",
    "version": 3
   },
   "file_extension": ".py",
   "mimetype": "text/x-python",
   "name": "python",
   "nbconvert_exporter": "python",
   "pygments_lexer": "ipython3",
   "version": "3.8.16"
  },
  "orig_nbformat": 4
 },
 "nbformat": 4,
 "nbformat_minor": 2
}
